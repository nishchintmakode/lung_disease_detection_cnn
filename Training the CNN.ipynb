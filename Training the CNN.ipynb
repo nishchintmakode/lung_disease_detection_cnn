{
 "cells": [
  {
   "cell_type": "code",
   "execution_count": 1,
   "id": "ecc63f1a",
   "metadata": {},
   "outputs": [],
   "source": [
    "import numpy as np\n",
    "\n",
    "data=np.load('data.npy')\n",
    "target=np.load('target.npy')"
   ]
  },
  {
   "cell_type": "code",
   "execution_count": 2,
   "id": "d2632ca6",
   "metadata": {
    "scrolled": true
   },
   "outputs": [
    {
     "name": "stdout",
     "output_type": "stream",
     "text": [
      "Model: \"sequential\"\n",
      "_________________________________________________________________\n",
      " Layer (type)                Output Shape              Param #   \n",
      "=================================================================\n",
      " model (Functional)          (None, 100, 100, 384)     11008     \n",
      "                                                                 \n",
      " conv2d_3 (Conv2D)           (None, 98, 98, 64)        221248    \n",
      "                                                                 \n",
      " activation (Activation)     (None, 98, 98, 64)        0         \n",
      "                                                                 \n",
      " max_pooling2d (MaxPooling2D  (None, 49, 49, 64)       0         \n",
      " )                                                               \n",
      "                                                                 \n",
      " conv2d_4 (Conv2D)           (None, 47, 47, 32)        18464     \n",
      "                                                                 \n",
      " activation_1 (Activation)   (None, 47, 47, 32)        0         \n",
      "                                                                 \n",
      " max_pooling2d_1 (MaxPooling  (None, 23, 23, 32)       0         \n",
      " 2D)                                                             \n",
      "                                                                 \n",
      " flatten (Flatten)           (None, 16928)             0         \n",
      "                                                                 \n",
      " dropout (Dropout)           (None, 16928)             0         \n",
      "                                                                 \n",
      " dense (Dense)               (None, 128)               2166912   \n",
      "                                                                 \n",
      " dropout_1 (Dropout)         (None, 128)               0         \n",
      "                                                                 \n",
      " dense_1 (Dense)             (None, 64)                8256      \n",
      "                                                                 \n",
      " dropout_2 (Dropout)         (None, 64)                0         \n",
      "                                                                 \n",
      " dense_2 (Dense)             (None, 4)                 260       \n",
      "                                                                 \n",
      "=================================================================\n",
      "Total params: 2,426,148\n",
      "Trainable params: 2,426,148\n",
      "Non-trainable params: 0\n",
      "_________________________________________________________________\n"
     ]
    }
   ],
   "source": [
    "from keras.models import Sequential,Model\n",
    "from keras.layers import Dense, Dropout, Flatten\n",
    "from keras.layers import Conv2D,Activation,MaxPooling2D\n",
    "from keras.layers import Concatenate\n",
    "from keras import Input\n",
    "from keras.callbacks import ModelCheckpoint\n",
    "\n",
    "input_shape=data.shape[1:] #50,50,1\n",
    "inp=Input(shape=input_shape)\n",
    "convs=[]\n",
    "\n",
    "parrallel_kernels=[3,5,7]\n",
    "\n",
    "for k in range(len(parrallel_kernels)):\n",
    "\n",
    "    conv = Conv2D(128, parrallel_kernels[k],padding='same',activation='relu',input_shape=input_shape,strides=1)(inp)\n",
    "    convs.append(conv)\n",
    "\n",
    "out = Concatenate()(convs)\n",
    "conv_model = Model(inp, out)\n",
    "\n",
    "model = Sequential()\n",
    "model.add(conv_model)\n",
    "\n",
    "model.add(Conv2D(64,(3,3)))\n",
    "model.add(Activation('relu'))\n",
    "model.add(MaxPooling2D(pool_size=(2,2)))\n",
    "\n",
    "model.add(Conv2D(32,(3,3)))\n",
    "model.add(Activation('relu'))\n",
    "model.add(MaxPooling2D(pool_size=(2,2)))\n",
    "\n",
    "model.add(Flatten())\n",
    "model.add(Dropout(0.5))\n",
    "model.add(Dense(128,activation='relu'))\n",
    "model.add(Dropout(0.5))\n",
    "model.add(Dense(64,activation='relu'))\n",
    "model.add(Dropout(0.5))\n",
    "model.add(Dense(4,input_dim=128,activation='softmax'))\n",
    "model.compile(loss='categorical_crossentropy',optimizer='adam',metrics=['accuracy'])\n",
    "\n",
    "model.summary()"
   ]
  },
  {
   "cell_type": "code",
   "execution_count": 3,
   "id": "4781b5c5",
   "metadata": {},
   "outputs": [],
   "source": [
    "from sklearn.model_selection import train_test_split\n",
    "\n",
    "train_data,test_data,train_target,test_target=train_test_split(data,target,test_size=0.1)"
   ]
  },
  {
   "cell_type": "code",
   "execution_count": 5,
   "id": "86b0d2c7",
   "metadata": {},
   "outputs": [
    {
     "name": "stdout",
     "output_type": "stream",
     "text": [
      "Epoch 1/25\n",
      "29/29 [==============================] - ETA: 0s - loss: 0.5204 - accuracy: 0.7987INFO:tensorflow:Assets written to: model-001.model\\assets\n",
      "29/29 [==============================] - 87s 3s/step - loss: 0.5204 - accuracy: 0.7987 - val_loss: 1.6369 - val_accuracy: 0.4466\n",
      "Epoch 2/25\n",
      "29/29 [==============================] - 87s 3s/step - loss: 0.4717 - accuracy: 0.8247 - val_loss: 1.9204 - val_accuracy: 0.3786\n",
      "Epoch 3/25\n",
      "29/29 [==============================] - 90s 3s/step - loss: 0.4325 - accuracy: 0.8442 - val_loss: 1.8674 - val_accuracy: 0.3495\n",
      "Epoch 4/25\n",
      "29/29 [==============================] - 89s 3s/step - loss: 0.4533 - accuracy: 0.8366 - val_loss: 1.8304 - val_accuracy: 0.3689\n",
      "Epoch 5/25\n",
      "29/29 [==============================] - 86s 3s/step - loss: 0.4245 - accuracy: 0.8561 - val_loss: 1.9096 - val_accuracy: 0.4078\n",
      "Epoch 6/25\n",
      "29/29 [==============================] - 87s 3s/step - loss: 0.3559 - accuracy: 0.8766 - val_loss: 2.1285 - val_accuracy: 0.4078\n",
      "Epoch 7/25\n",
      "29/29 [==============================] - 89s 3s/step - loss: 0.3719 - accuracy: 0.8626 - val_loss: 2.0308 - val_accuracy: 0.3301\n",
      "Epoch 8/25\n",
      "29/29 [==============================] - 88s 3s/step - loss: 0.3242 - accuracy: 0.8842 - val_loss: 2.1973 - val_accuracy: 0.3689\n",
      "Epoch 9/25\n",
      "29/29 [==============================] - 86s 3s/step - loss: 0.2967 - accuracy: 0.8972 - val_loss: 2.3080 - val_accuracy: 0.3883\n",
      "Epoch 10/25\n",
      "29/29 [==============================] - 86s 3s/step - loss: 0.3494 - accuracy: 0.8810 - val_loss: 2.3147 - val_accuracy: 0.4272\n",
      "Epoch 11/25\n",
      "29/29 [==============================] - 86s 3s/step - loss: 0.3017 - accuracy: 0.8983 - val_loss: 2.0355 - val_accuracy: 0.4175\n",
      "Epoch 12/25\n",
      "29/29 [==============================] - 88s 3s/step - loss: 0.2782 - accuracy: 0.9123 - val_loss: 2.4053 - val_accuracy: 0.4563\n",
      "Epoch 13/25\n",
      "29/29 [==============================] - 83s 3s/step - loss: 0.2920 - accuracy: 0.8983 - val_loss: 2.2990 - val_accuracy: 0.3301\n",
      "Epoch 14/25\n",
      "29/29 [==============================] - 81s 3s/step - loss: 0.2618 - accuracy: 0.9134 - val_loss: 2.3840 - val_accuracy: 0.3786\n",
      "Epoch 15/25\n",
      "29/29 [==============================] - 81s 3s/step - loss: 0.2338 - accuracy: 0.9210 - val_loss: 2.7004 - val_accuracy: 0.3495\n",
      "Epoch 16/25\n",
      "29/29 [==============================] - 81s 3s/step - loss: 0.2754 - accuracy: 0.9058 - val_loss: 2.5063 - val_accuracy: 0.3689\n",
      "Epoch 17/25\n",
      "29/29 [==============================] - 81s 3s/step - loss: 0.2241 - accuracy: 0.9210 - val_loss: 2.4004 - val_accuracy: 0.4369\n",
      "Epoch 18/25\n",
      "29/29 [==============================] - 81s 3s/step - loss: 0.2376 - accuracy: 0.9286 - val_loss: 2.3417 - val_accuracy: 0.3689\n",
      "Epoch 19/25\n",
      "29/29 [==============================] - 81s 3s/step - loss: 0.1903 - accuracy: 0.9405 - val_loss: 2.4507 - val_accuracy: 0.3786\n",
      "Epoch 20/25\n",
      "29/29 [==============================] - 81s 3s/step - loss: 0.1647 - accuracy: 0.9448 - val_loss: 2.6177 - val_accuracy: 0.4272\n",
      "Epoch 21/25\n",
      "29/29 [==============================] - 83s 3s/step - loss: 0.1932 - accuracy: 0.9372 - val_loss: 2.8868 - val_accuracy: 0.3689\n",
      "Epoch 22/25\n",
      "29/29 [==============================] - 81s 3s/step - loss: 0.1723 - accuracy: 0.9481 - val_loss: 2.5526 - val_accuracy: 0.3883\n",
      "Epoch 23/25\n",
      "29/29 [==============================] - 81s 3s/step - loss: 0.1995 - accuracy: 0.9329 - val_loss: 2.5253 - val_accuracy: 0.3786\n",
      "Epoch 24/25\n",
      "29/29 [==============================] - 85s 3s/step - loss: 0.1888 - accuracy: 0.9318 - val_loss: 2.3863 - val_accuracy: 0.4369\n",
      "Epoch 25/25\n",
      "29/29 [==============================] - 83s 3s/step - loss: 0.1774 - accuracy: 0.9372 - val_loss: 2.7860 - val_accuracy: 0.3981\n"
     ]
    }
   ],
   "source": [
    "checkpoint = ModelCheckpoint('model-{epoch:03d}.model',monitor='val_loss',verbose=0,save_best_only=True,mode='auto')\n",
    "history=model.fit(train_data,train_target,epochs=25,callbacks=[checkpoint],validation_split=0.1)"
   ]
  },
  {
   "cell_type": "code",
   "execution_count": 6,
   "id": "ab95b828",
   "metadata": {},
   "outputs": [
    {
     "data": {
      "image/png": "[encoded data removed]",
      "text/plain": [
       "<Figure size 432x288 with 1 Axes>"
      ]
     },
     "metadata": {
      "needs_background": "light"
     },
     "output_type": "display_data"
    }
   ],
   "source": [
    "from matplotlib import pyplot as plt\n",
    "\n",
    "plt.plot(history.history['loss'],'r',label='training loss')\n",
    "plt.xlabel('# epochs')\n",
    "plt.ylabel('loss')\n",
    "plt.legend()\n",
    "plt.show()"
   ]
  },
  {
   "cell_type": "code",
   "execution_count": 7,
   "id": "f5b56adb",
   "metadata": {},
   "outputs": [
    {
     "data": {
      "image/png": "[encoded data removed]",
      "text/plain": [
       "<Figure size 432x288 with 1 Axes>"
      ]
     },
     "metadata": {
      "needs_background": "light"
     },
     "output_type": "display_data"
    }
   ],
   "source": [
    "plt.plot(history.history['accuracy'],'r',label='training accuracy')\n",
    "plt.xlabel('# epochs')\n",
    "plt.ylabel('accuracy')\n",
    "plt.legend()\n",
    "plt.show()"
   ]
  },
  {
   "cell_type": "code",
   "execution_count": 8,
   "id": "40238f39",
   "metadata": {},
   "outputs": [
    {
     "name": "stdout",
     "output_type": "stream",
     "text": [
      "INFO:tensorflow:Assets written to: ldd_model\\assets\n"
     ]
    }
   ],
   "source": [
    "model.save('ldd_model')"
   ]
  },
  {
   "cell_type": "code",
   "execution_count": null,
   "id": "33f3023f",
   "metadata": {},
   "outputs": [],
   "source": []
  }
 ],
 "metadata": {
  "kernelspec": {
   "display_name": "Python 3 (ipykernel)",
   "language": "python",
   "name": "python3"
  },
  "language_info": {
   "codemirror_mode": {
    "name": "ipython",
    "version": 3
   },
   "file_extension": ".py",
   "mimetype": "text/x-python",
   "name": "python",
   "nbconvert_exporter": "python",
   "pygments_lexer": "ipython3",
   "version": "3.9.7"
  }
 },
 "nbformat": 4,
 "nbformat_minor": 5
}
